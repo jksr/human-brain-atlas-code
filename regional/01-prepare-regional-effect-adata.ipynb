{
 "cells": [
  {
   "cell_type": "code",
   "execution_count": 12,
   "id": "97683381",
   "metadata": {
    "ExecuteTime": {
     "end_time": "2022-09-07T03:09:31.799738Z",
     "start_time": "2022-09-07T03:09:31.797338Z"
    }
   },
   "outputs": [],
   "source": [
    "import pandas as pd\n",
    "import anndata\n",
    "import scanpy as sc\n",
    "from SCCEE import *\n",
    "import matplotlib.pyplot as plt\n",
    "import seaborn as sns\n",
    "import joblib\n",
    "import glob\n",
    "import multiprocessing\n",
    "import functools\n",
    "import sys"
   ]
  },
  {
   "cell_type": "code",
   "execution_count": 13,
   "id": "f59a5545",
   "metadata": {
    "ExecuteTime": {
     "end_time": "2022-09-07T03:09:31.900913Z",
     "start_time": "2022-09-07T03:09:31.801009Z"
    }
   },
   "outputs": [],
   "source": [
    "from hba_data import internal_utils as hba_utils"
   ]
  },
  {
   "cell_type": "code",
   "execution_count": null,
   "id": "ab4303e3",
   "metadata": {},
   "outputs": [],
   "source": []
  },
  {
   "cell_type": "code",
   "execution_count": 14,
   "id": "61d91259",
   "metadata": {
    "ExecuteTime": {
     "end_time": "2022-09-07T03:09:32.121314Z",
     "start_time": "2022-09-07T03:09:31.901809Z"
    }
   },
   "outputs": [],
   "source": [
    "cell_meta = hba_utils.CellType.get_mc_meta()\n",
    "cell_meta['Region'] = hba_utils.Region.correct_region(cell_meta['Region'])\n",
    "cell_meta['SupRegion'] = hba_utils.Region.get_brain_structure(cell_meta['Region'])"
   ]
  },
  {
   "cell_type": "code",
   "execution_count": 15,
   "id": "bf629187",
   "metadata": {
    "ExecuteTime": {
     "end_time": "2022-09-07T03:09:32.310955Z",
     "start_time": "2022-09-07T03:09:32.122539Z"
    }
   },
   "outputs": [],
   "source": [
    "cell_meta = cell_meta[(cell_meta['MajorType']!='Outline')&(cell_meta['SubType']!='Outline')]"
   ]
  },
  {
   "cell_type": "code",
   "execution_count": 16,
   "id": "55dd45de",
   "metadata": {
    "ExecuteTime": {
     "end_time": "2022-09-07T03:09:32.410065Z",
     "start_time": "2022-09-07T03:09:32.312704Z"
    }
   },
   "outputs": [],
   "source": [
    "sel1 = (cell_meta['Donor']=='h1930004')&(cell_meta['Region']=='A19')\n",
    "sel2 = (cell_meta['Donor']=='h1930004')&(cell_meta['Region']=='LEC')\n",
    "cell_meta.loc[sel1, 'Region'] = 'LEC'\n",
    "cell_meta.loc[sel2, 'Region'] = 'A19'"
   ]
  },
  {
   "cell_type": "code",
   "execution_count": 17,
   "id": "f4cfb584",
   "metadata": {
    "ExecuteTime": {
     "end_time": "2022-09-07T03:09:32.412801Z",
     "start_time": "2022-09-07T03:09:32.411203Z"
    }
   },
   "outputs": [],
   "source": [
    "# def worker_base(n_nbrs, sccee, cond, n_pseudos, ct, obsm):\n",
    "#     print(ct, n_nbrs, 'start')\n",
    "#     sys.stdout.flush()\n",
    "#     rlt = sccee.evaluate_conditional_effect(cond, n_pseudos=n_pseudos, \n",
    "#                                             n_nbrs=n_nbrs, use_cached_bg=True)\n",
    "#     joblib.dump(rlt, f'./regional-axes-data/{ct}.{obsm}.nbr_{str(n_nbrs).zfill(3)}.sccee.joblib') \n",
    "#     print(ct, n_nbrs, 'done')\n",
    "#     sys.stdout.flush()\n",
    "#     return True"
   ]
  },
  {
   "cell_type": "code",
   "execution_count": 18,
   "id": "65e7cf7b",
   "metadata": {
    "ExecuteTime": {
     "end_time": "2022-09-07T03:09:32.420540Z",
     "start_time": "2022-09-07T03:09:32.413790Z"
    }
   },
   "outputs": [],
   "source": [
    "done = set([x.split('/')[-1].split('.X_pca_scanorama.npseudos_')[0] for x in glob.glob('regional-axes-data/*')])"
   ]
  },
  {
   "cell_type": "code",
   "execution_count": 19,
   "id": "1888ac58",
   "metadata": {
    "ExecuteTime": {
     "end_time": "2022-09-07T03:09:32.445417Z",
     "start_time": "2022-09-07T03:09:32.421422Z"
    }
   },
   "outputs": [],
   "source": [
    "todo = set([x.split('/')[-2] for x in glob.glob('/gale/netapp/home/wtian/hba/analysis/CellTypeMergingAndSummary/CellTypeEmbedding/MajorType-type-region-selected/*.*/adata.with_coords.h5ad')])\n"
   ]
  },
  {
   "cell_type": "code",
   "execution_count": 20,
   "id": "9f57f488",
   "metadata": {
    "ExecuteTime": {
     "end_time": "2022-09-07T03:09:32.449113Z",
     "start_time": "2022-09-07T03:09:32.446281Z"
    }
   },
   "outputs": [],
   "source": [
    "todo-=done"
   ]
  },
  {
   "cell_type": "code",
   "execution_count": 21,
   "id": "9751e37e",
   "metadata": {
    "ExecuteTime": {
     "end_time": "2022-09-07T03:09:32.464012Z",
     "start_time": "2022-09-07T03:09:32.449946Z"
    }
   },
   "outputs": [
    {
     "data": {
      "text/plain": [
       "{'CHD7.BN_BF',\n",
       " 'Foxp2.BN_BF',\n",
       " 'L23_IT.CX',\n",
       " 'L4_IT.CX',\n",
       " 'L5_IT.CX',\n",
       " 'L6_IT.CX',\n",
       " 'Lamp5.CX',\n",
       " 'Lamp5.CX_HIP',\n",
       " 'Lamp5_LHX6.CX',\n",
       " 'Lamp5_LHX6.CX_HIP',\n",
       " 'MSN_D1.BN_BF',\n",
       " 'MSN_D2.BN_BF',\n",
       " 'Pvalb.CX',\n",
       " 'Pvalb.CX_HIP',\n",
       " 'Pvalb_ChC.CX',\n",
       " 'Pvalb_ChC.CX_HIP',\n",
       " 'Sncg.CX',\n",
       " 'Sncg.CX_HIP',\n",
       " 'Sst.CX',\n",
       " 'Sst.CX_HIP',\n",
       " 'Vip.CX',\n",
       " 'Vip.CX_HIP'}"
      ]
     },
     "execution_count": 21,
     "metadata": {},
     "output_type": "execute_result"
    }
   ],
   "source": [
    "done"
   ]
  },
  {
   "cell_type": "code",
   "execution_count": 22,
   "id": "93545ce7",
   "metadata": {
    "ExecuteTime": {
     "end_time": "2022-09-07T03:09:32.475482Z",
     "start_time": "2022-09-07T03:09:32.464955Z"
    }
   },
   "outputs": [
    {
     "data": {
      "text/plain": [
       "{'L56_NP.CX', 'L6_CT.CX', 'L6b.CX'}"
      ]
     },
     "execution_count": 22,
     "metadata": {},
     "output_type": "execute_result"
    }
   ],
   "source": [
    "todo"
   ]
  },
  {
   "cell_type": "code",
   "execution_count": 23,
   "id": "46e53268",
   "metadata": {
    "ExecuteTime": {
     "end_time": "2022-09-07T03:21:37.678773Z",
     "start_time": "2022-09-07T03:09:35.944448Z"
    }
   },
   "outputs": [
    {
     "name": "stdout",
     "output_type": "stream",
     "text": [
      "L56_NP CX\n"
     ]
    },
    {
     "name": "stderr",
     "output_type": "stream",
     "text": [
      "/data/wtian/local/miniconda3/envs/sapiens/lib/python3.8/site-packages/skbio/stats/ordination/_principal_coordinate_analysis.py:143: RuntimeWarning: The result contains negative eigenvalues. Please compare their magnitude with the magnitude of some of the largest positive eigenvalues. If the negative ones are smaller, it's probably safe to ignore them, but if they are large in magnitude, the results won't be useful. See the Notes section for more details. The smallest eigenvalue is -17.052792604175508 and the largest is 606.5037421189384.\n",
      "  warn(\n",
      "/gale/netapp/home/wtian/sapiens/systmp/ipykernel_85568/2159504037.py:33: FutureWarning: X.dtype being converted to np.float32 from float64. In the next version of anndata (0.9) conversion will not be automatic. Pass dtype explicitly to avoid this warning. Pass `AnnData(X, dtype=X.dtype, ...)` to get the future behavour.\n",
      "  radata = anndata.AnnData(tmp.values, obs=conddf, var=tmp.T[[]], )\n"
     ]
    },
    {
     "name": "stdout",
     "output_type": "stream",
     "text": [
      "done\n",
      "L6b CX\n"
     ]
    },
    {
     "name": "stderr",
     "output_type": "stream",
     "text": [
      "/data/wtian/local/miniconda3/envs/sapiens/lib/python3.8/site-packages/skbio/stats/ordination/_principal_coordinate_analysis.py:143: RuntimeWarning: The result contains negative eigenvalues. Please compare their magnitude with the magnitude of some of the largest positive eigenvalues. If the negative ones are smaller, it's probably safe to ignore them, but if they are large in magnitude, the results won't be useful. See the Notes section for more details. The smallest eigenvalue is -38.159440087664166 and the largest is 1974.8539145280718.\n",
      "  warn(\n",
      "/gale/netapp/home/wtian/sapiens/systmp/ipykernel_85568/2159504037.py:33: FutureWarning: X.dtype being converted to np.float32 from float64. In the next version of anndata (0.9) conversion will not be automatic. Pass dtype explicitly to avoid this warning. Pass `AnnData(X, dtype=X.dtype, ...)` to get the future behavour.\n",
      "  radata = anndata.AnnData(tmp.values, obs=conddf, var=tmp.T[[]], )\n"
     ]
    },
    {
     "name": "stdout",
     "output_type": "stream",
     "text": [
      "done\n",
      "L6_CT CX\n"
     ]
    },
    {
     "name": "stderr",
     "output_type": "stream",
     "text": [
      "/data/wtian/local/miniconda3/envs/sapiens/lib/python3.8/site-packages/skbio/stats/ordination/_principal_coordinate_analysis.py:143: RuntimeWarning: The result contains negative eigenvalues. Please compare their magnitude with the magnitude of some of the largest positive eigenvalues. If the negative ones are smaller, it's probably safe to ignore them, but if they are large in magnitude, the results won't be useful. See the Notes section for more details. The smallest eigenvalue is -49.23413341967836 and the largest is 2387.9312303524343.\n",
      "  warn(\n"
     ]
    },
    {
     "name": "stdout",
     "output_type": "stream",
     "text": [
      "done\n"
     ]
    },
    {
     "name": "stderr",
     "output_type": "stream",
     "text": [
      "/gale/netapp/home/wtian/sapiens/systmp/ipykernel_85568/2159504037.py:33: FutureWarning: X.dtype being converted to np.float32 from float64. In the next version of anndata (0.9) conversion will not be automatic. Pass dtype explicitly to avoid this warning. Pass `AnnData(X, dtype=X.dtype, ...)` to get the future behavour.\n",
      "  radata = anndata.AnnData(tmp.values, obs=conddf, var=tmp.T[[]], )\n"
     ]
    }
   ],
   "source": [
    "for fn in glob.glob(f'/gale/netapp/home/wtian/hba/analysis/CellTypeMergingAndSummary/'\n",
    "                    f'CellTypeEmbedding/MajorType-type-region-selected/*.*/adata.with_coords.h5ad'):\n",
    "    n_nbrs = 200\n",
    "    n_pseudos = 'all'\n",
    "    \n",
    "    ct,supregs = fn.split('/')[-2].split('.')\n",
    "#     if f'{ct}.{supregs}' in done:\n",
    "#         continue\n",
    "    if f'{ct}.{supregs}' not in todo:\n",
    "        continue    \n",
    "#     if ct!='L4_IT' or supregs!='CX':\n",
    "#         continue\n",
    "\n",
    "#     supregs = supregs.split('_')\n",
    "\n",
    "    print(ct,supregs)\n",
    "    adata = anndata.read_h5ad(fn)\n",
    "    conddf = cell_meta[cell_meta['MajorType']==ct].loc[adata.obs_names]\n",
    "\n",
    "    for obsm in [\n",
    "#                 'X_pca_harmony', \n",
    "                 'X_pca_scanorama'\n",
    "                ]:\n",
    "        coorddf = pd.DataFrame(adata.obsm[obsm], index=adata.obs_names)\n",
    "#         coorddf = coorddf.loc[conddf.index]\n",
    "        n_pseudos = len(adata) if n_pseudos=='all' else n_pseudos\n",
    "\n",
    "        sccee = SCCEE(conddf, coorddf, 0)\n",
    "        rlt = sccee.evaluate_conditional_effect('Region', n_pseudos=n_pseudos, \n",
    "                                                n_nbrs=n_nbrs, use_cached_bg=True)\n",
    "        \n",
    "        tmp =rlt['pseudo_portion_matrix'].loc[adata.obs_names]\n",
    "        radata = anndata.AnnData(tmp.values, obs=conddf, var=tmp.T[[]], )\n",
    "        radata.obsm['X_pca'] = rlt['cond_embedding'].loc[adata.obs_names]    \n",
    "        \n",
    "        radata.write_h5ad(f'./regional-axes-data/{ct}.{supregs}.{obsm}.npseudos_{n_pseudos}.nnbrs_{n_nbrs}.h5ad')\n",
    "    print('done')\n"
   ]
  },
  {
   "cell_type": "code",
   "execution_count": null,
   "id": "f99b2df0",
   "metadata": {},
   "outputs": [],
   "source": []
  },
  {
   "cell_type": "code",
   "execution_count": null,
   "id": "a7d3c2dc",
   "metadata": {},
   "outputs": [],
   "source": []
  }
 ],
 "metadata": {
  "kernelspec": {
   "display_name": "Python [conda env:sapiens]",
   "language": "python",
   "name": "conda-env-sapiens-py"
  },
  "language_info": {
   "codemirror_mode": {
    "name": "ipython",
    "version": 3
   },
   "file_extension": ".py",
   "mimetype": "text/x-python",
   "name": "python",
   "nbconvert_exporter": "python",
   "pygments_lexer": "ipython3",
   "version": "3.8.12"
  },
  "toc": {
   "base_numbering": 1,
   "nav_menu": {},
   "number_sections": true,
   "sideBar": true,
   "skip_h1_title": false,
   "title_cell": "Table of Contents",
   "title_sidebar": "Contents",
   "toc_cell": false,
   "toc_position": {},
   "toc_section_display": true,
   "toc_window_display": false
  }
 },
 "nbformat": 4,
 "nbformat_minor": 5
}
