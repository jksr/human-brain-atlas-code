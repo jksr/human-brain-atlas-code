{
 "cells": [
  {
   "cell_type": "code",
   "execution_count": 1,
   "id": "a0f37ee8",
   "metadata": {
    "ExecuteTime": {
     "end_time": "2022-07-23T20:29:28.810119Z",
     "start_time": "2022-07-23T20:29:22.669257Z"
    },
    "execution": {
     "iopub.execute_input": "2022-07-14T04:53:35.405911Z",
     "iopub.status.busy": "2022-07-14T04:53:35.405369Z",
     "iopub.status.idle": "2022-07-14T04:53:36.495026Z",
     "shell.execute_reply": "2022-07-14T04:53:36.495336Z"
    },
    "papermill": {
     "duration": 1.151897,
     "end_time": "2022-07-14T04:53:36.495533",
     "exception": false,
     "start_time": "2022-07-14T04:53:35.343636",
     "status": "completed"
    },
    "tags": []
   },
   "outputs": [
    {
     "name": "stdout",
     "output_type": "stream",
     "text": [
      "INFO: Pandarallel will run on 48 workers.\n",
      "INFO: Pandarallel will use Memory file system to transfer data between the main process and workers.\n"
     ]
    }
   ],
   "source": [
    "import pandas as pd\n",
    "import seaborn as sns\n",
    "import glob\n",
    "import os\n",
    "import anndata\n",
    "import scipy\n",
    "import scipy.cluster.hierarchy as sch\n",
    "import numpy as np\n",
    "# import scanpy as sc\n",
    "from pathlib import Path\n",
    "import multiprocessing\n",
    "import scipy.spatial.distance as ssd\n",
    "import scipy.cluster.hierarchy as sch\n",
    "from sklearn.metrics import adjusted_mutual_info_score\n",
    "import matplotlib.pyplot as plt\n",
    "from pandarallel import pandarallel\n",
    "pandarallel.initialize()"
   ]
  },
  {
   "cell_type": "code",
   "execution_count": 8,
   "id": "b611e0ba",
   "metadata": {
    "ExecuteTime": {
     "end_time": "2022-07-23T21:41:00.802804Z",
     "start_time": "2022-07-23T21:41:00.799985Z"
    },
    "papermill": {
     "duration": 0.059165,
     "end_time": "2022-07-14T04:53:36.813471",
     "exception": false,
     "start_time": "2022-07-14T04:53:36.754306",
     "status": "completed"
    },
    "tags": []
   },
   "outputs": [],
   "source": [
    "donor = 'common'"
   ]
  },
  {
   "cell_type": "code",
   "execution_count": 2,
   "id": "af2977e0",
   "metadata": {
    "ExecuteTime": {
     "end_time": "2022-07-23T20:30:30.467331Z",
     "start_time": "2022-07-23T20:30:30.464183Z"
    },
    "execution": {
     "iopub.execute_input": "2022-07-14T04:53:36.911571Z",
     "iopub.status.busy": "2022-07-14T04:53:36.911182Z",
     "iopub.status.idle": "2022-07-14T04:53:36.913294Z",
     "shell.execute_reply": "2022-07-14T04:53:36.913588Z"
    },
    "papermill": {
     "duration": 0.051472,
     "end_time": "2022-07-14T04:53:36.913678",
     "exception": false,
     "start_time": "2022-07-14T04:53:36.862206",
     "status": "completed"
    },
    "tags": []
   },
   "outputs": [],
   "source": [
    "good_cov = 10 # coverage cutoff for single CpG site\n",
    "good_cov_portion = 0.8 # consider the CpG site only if these many samples have good coverage criteria\n",
    "good_mc_frac = 0.8 # the methylation level of CpG sites shoud be  >good_mc_frac  or  <1-good_mc_frac\n",
    "good_mc_frac_portion = 0.9999 # consider the CpG site only if these many samples satisfy good mc frac criteria\n",
    "\n",
    "pdist_thresh = 20\n",
    "\n",
    "methylpy_results = glob.glob(f'/gale/netapp/home/wtian/hba/analysis/DMR/DMR-results/MajorType/MajorType.*_rms_results.tsv.gz')\n",
    "name = f'celltype.MajorType.donor.common'"
   ]
  },
  {
   "cell_type": "code",
   "execution_count": null,
   "id": "2969ace6",
   "metadata": {
    "papermill": {
     "duration": 0.040923,
     "end_time": "2022-07-14T04:53:37.001177",
     "exception": false,
     "start_time": "2022-07-14T04:53:36.960254",
     "status": "completed"
    },
    "tags": []
   },
   "outputs": [],
   "source": []
  },
  {
   "cell_type": "code",
   "execution_count": 3,
   "id": "aabba761",
   "metadata": {
    "ExecuteTime": {
     "end_time": "2022-07-23T20:30:31.935052Z",
     "start_time": "2022-07-23T20:30:31.932753Z"
    },
    "execution": {
     "iopub.execute_input": "2022-07-14T04:53:37.093459Z",
     "iopub.status.busy": "2022-07-14T04:53:37.092371Z",
     "iopub.status.idle": "2022-07-14T04:53:37.094682Z",
     "shell.execute_reply": "2022-07-14T04:53:37.094982Z"
    },
    "papermill": {
     "duration": 0.048061,
     "end_time": "2022-07-14T04:53:37.095075",
     "exception": false,
     "start_time": "2022-07-14T04:53:37.047014",
     "status": "completed"
    },
    "tags": []
   },
   "outputs": [],
   "source": [
    "def parallelize_dataframe(dfreader, func, n_cores=20):\n",
    "    with multiprocessing.Pool(n_cores) as pool:\n",
    "        newdf = pd.concat(pool.map(func, dfreader))\n",
    "    return newdf"
   ]
  },
  {
   "cell_type": "code",
   "execution_count": 4,
   "id": "fddce265",
   "metadata": {
    "ExecuteTime": {
     "end_time": "2022-07-23T20:30:32.948678Z",
     "start_time": "2022-07-23T20:30:32.946305Z"
    },
    "execution": {
     "iopub.execute_input": "2022-07-14T04:53:37.188132Z",
     "iopub.status.busy": "2022-07-14T04:53:37.186961Z",
     "iopub.status.idle": "2022-07-14T04:53:37.189329Z",
     "shell.execute_reply": "2022-07-14T04:53:37.189621Z"
    },
    "papermill": {
     "duration": 0.050931,
     "end_time": "2022-07-14T04:53:37.189712",
     "exception": false,
     "start_time": "2022-07-14T04:53:37.138781",
     "status": "completed"
    },
    "tags": []
   },
   "outputs": [],
   "source": [
    "# class DFProcessor:\n",
    "#     def __init__(self, samples, good_cov, good_cov_portion, good_mc_frac, good_mc_frac_portion):\n",
    "#         self.samples = samples\n",
    "#         self.good_cov = good_cov\n",
    "#         self.good_cov_portion = good_cov_portion\n",
    "#         self.good_mc_frac = good_mc_frac\n",
    "#         self.good_mc_frac_portion = good_mc_frac_portion\n",
    "        \n",
    "#     def process_df(self, df):\n",
    "#         mcdf = df.loc[:, df.columns.str.startswith('mc_h19')].clip(0)\n",
    "#         mcdf.columns = mcdf.columns.str.replace('mc_','',1)\n",
    "#         covdf = df.loc[:, df.columns.str.startswith('h_h19')].clip(0)\n",
    "#         covdf.columns = covdf.columns.str.replace('h_','',1)\n",
    "#         fracdf_0 = mcdf/covdf\n",
    "        \n",
    "        \n",
    "#         mcdf = mcdf[self.samples]\n",
    "#         covdf = covdf[self.samples]\n",
    "#         fracdf = fracdf_0[self.samples]\n",
    "        \n",
    "#         sel1 = (covdf>self.good_cov).mean(1)>self.good_cov_portion # good coverage\n",
    "#         sel21 = ((fracdf-0.5).abs()>self.good_mc_frac-0.5).mean(1)>self.good_mc_frac_portion #good mc frac\n",
    "#         sel22 = fracdf.max(1)-fracdf.min(1) > (2-self.good_mc_frac)/2  #good mc frac\n",
    "#         sel = sel1&sel21&sel22\n",
    "        \n",
    "#         fracdf_0 = fracdf_0[sel].copy()\n",
    "#         fracdf_0.columns = 'frac_'+fracdf_0.columns\n",
    "\n",
    "        \n",
    "#         tmp = pd.concat([df.loc[sel, ['chr','pos']],fracdf_0,\n",
    "#                        df.loc[sel, df.columns.str.startswith('mc_h19')|df.columns.str.startswith('h_h19')]], axis=1)\n",
    "        \n",
    "        \n",
    "# #         for col in ['chr','pos']:\n",
    "# #             fracdf_0[col] = df[sel][col]\n",
    "# #         fracdf_0['cell types'] = ':'.join(self.samples)\n",
    "#         tmp['cell types'] = ':'.join(self.samples)\n",
    "\n",
    "#         return tmp\n",
    "        "
   ]
  },
  {
   "cell_type": "code",
   "execution_count": 5,
   "id": "fc36d668",
   "metadata": {
    "ExecuteTime": {
     "end_time": "2022-07-23T20:30:34.087200Z",
     "start_time": "2022-07-23T20:30:34.080643Z"
    },
    "execution": {
     "iopub.execute_input": "2022-07-14T04:53:37.319608Z",
     "iopub.status.busy": "2022-07-14T04:53:37.319232Z",
     "iopub.status.idle": "2022-07-14T04:53:37.320454Z",
     "shell.execute_reply": "2022-07-14T04:53:37.320737Z"
    },
    "papermill": {
     "duration": 0.073462,
     "end_time": "2022-07-14T04:53:37.320826",
     "exception": false,
     "start_time": "2022-07-14T04:53:37.247364",
     "status": "completed"
    },
    "tags": []
   },
   "outputs": [],
   "source": [
    "class DFProcessor:\n",
    "    def __init__(self, samples, good_cov, good_cov_portion, good_mc_frac, good_mc_frac_portion):\n",
    "        self.samples = pd.Index(samples)\n",
    "        self.good_cov = good_cov\n",
    "        self.good_cov_portion = good_cov_portion\n",
    "        self.good_mc_frac = good_mc_frac\n",
    "        self.good_mc_frac_portion = good_mc_frac_portion\n",
    "        \n",
    "    def process_df(self, df):\n",
    "        mcdf = df.loc[:, (df.columns!='mc_class') & df.columns.str.startswith('mc_') ].clip(0)\n",
    "        mcdf.columns = mcdf.columns.str.replace('mc_','',1)\n",
    "        covdf = df.loc[:, df.columns.str.startswith('h_')].clip(0)\n",
    "        covdf.columns = covdf.columns.str.replace('h_','',1)\n",
    "        fracdf_0 = mcdf/covdf\n",
    "        \n",
    "        \n",
    "        mcdf = mcdf[self.samples]\n",
    "        covdf = covdf[self.samples]\n",
    "        fracdf = fracdf_0[self.samples]\n",
    "        \n",
    "        sel1 = (covdf>self.good_cov).mean(1)>self.good_cov_portion # good coverage\n",
    "        sel21 = ((fracdf-0.5).abs()>self.good_mc_frac-0.5).mean(1)>self.good_mc_frac_portion #good mc frac\n",
    "        sel22 = fracdf.max(1)-fracdf.min(1) > (2-self.good_mc_frac)/2  #good mc frac\n",
    "        sel = sel1&sel21&sel22\n",
    "        \n",
    "        fracdf_0 = fracdf_0[sel].copy()\n",
    "        fracdf_0.columns = 'frac_'+fracdf_0.columns\n",
    "\n",
    "        \n",
    "        tmp = pd.concat([df.loc[sel, ['chr','pos']],fracdf_0,\n",
    "#                        df.loc[sel, df.columns.isin('mc_'+self.samples)|df.columns.isin('h_'+self.samples)]], axis=1)\n",
    "                       df.loc[sel, ( (df.columns!='mc_class') & \\\n",
    "                                     (df.columns.str.startswith('mc_') | \\\n",
    "                                      df.columns.str.startswith('h_'))\n",
    "                                   )]], axis=1)\n",
    "        \n",
    "        \n",
    "#         for col in ['chr','pos']:\n",
    "#             fracdf_0[col] = df[sel][col]\n",
    "#         fracdf_0['cell types'] = ':'.join(self.samples)\n",
    "        tmp['cell types'] = ':'.join(self.samples)\n",
    "\n",
    "        return tmp\n",
    "        "
   ]
  },
  {
   "cell_type": "code",
   "execution_count": 8,
   "id": "3a0a0dfe",
   "metadata": {
    "ExecuteTime": {
     "end_time": "2022-07-12T21:26:51.995228Z",
     "start_time": "2022-07-12T21:26:51.987806Z"
    },
    "deletable": false,
    "editable": false,
    "execution": {
     "iopub.execute_input": "2022-07-14T04:53:37.451068Z",
     "iopub.status.busy": "2022-07-14T04:53:37.450704Z",
     "iopub.status.idle": "2022-07-14T04:53:37.462846Z",
     "shell.execute_reply": "2022-07-14T04:53:37.462493Z"
    },
    "papermill": {
     "duration": 0.059557,
     "end_time": "2022-07-14T04:53:37.462922",
     "exception": false,
     "start_time": "2022-07-14T04:53:37.403365",
     "status": "completed"
    },
    "run_control": {
     "frozen": true
    },
    "tags": []
   },
   "outputs": [],
   "source": [
    "for x in pd.read_csv(methylpy_results[0],sep='\\t',chunksize=20):\n",
    "    break"
   ]
  },
  {
   "cell_type": "code",
   "execution_count": 9,
   "id": "72d9118a",
   "metadata": {
    "ExecuteTime": {
     "end_time": "2022-07-12T21:27:48.990769Z",
     "start_time": "2022-07-12T21:27:48.986983Z"
    },
    "deletable": false,
    "editable": false,
    "execution": {
     "iopub.execute_input": "2022-07-14T04:53:37.567158Z",
     "iopub.status.busy": "2022-07-14T04:53:37.566794Z",
     "iopub.status.idle": "2022-07-14T04:53:37.569431Z",
     "shell.execute_reply": "2022-07-14T04:53:37.569726Z"
    },
    "papermill": {
     "duration": 0.053594,
     "end_time": "2022-07-14T04:53:37.569817",
     "exception": false,
     "start_time": "2022-07-14T04:53:37.516223",
     "status": "completed"
    },
    "run_control": {
     "frozen": true
    },
    "tags": []
   },
   "outputs": [
    {
     "data": {
      "text/plain": [
       "Index([], dtype='object')"
      ]
     },
     "execution_count": 9,
     "metadata": {},
     "output_type": "execute_result"
    }
   ],
   "source": [
    "x.columns[x.columns.str.startswith('methylation_level_')].str.replace('methylation_level_','')"
   ]
  },
  {
   "cell_type": "code",
   "execution_count": 10,
   "id": "d1d69009",
   "metadata": {
    "ExecuteTime": {
     "end_time": "2022-07-12T21:14:11.000622Z",
     "start_time": "2022-07-12T21:13:54.529866Z"
    },
    "deletable": false,
    "editable": false,
    "execution": {
     "iopub.execute_input": "2022-07-14T04:53:37.662803Z",
     "iopub.status.busy": "2022-07-14T04:53:37.662438Z",
     "iopub.status.idle": "2022-07-14T04:53:37.664378Z",
     "shell.execute_reply": "2022-07-14T04:53:37.664034Z"
    },
    "papermill": {
     "duration": 0.0536,
     "end_time": "2022-07-14T04:53:37.664454",
     "exception": false,
     "start_time": "2022-07-14T04:53:37.610854",
     "status": "completed"
    },
    "run_control": {
     "frozen": true
    },
    "tags": []
   },
   "outputs": [
    {
     "data": {
      "text/plain": [
       "0"
      ]
     },
     "execution_count": 10,
     "metadata": {},
     "output_type": "execute_result"
    }
   ],
   "source": [
    "len(x.columns[x.columns.str.startswith('methylation_level_')].str.replace('methylation_level_',''))"
   ]
  },
  {
   "cell_type": "code",
   "execution_count": 6,
   "id": "fde87cd6",
   "metadata": {
    "ExecuteTime": {
     "end_time": "2022-07-23T20:30:46.363172Z",
     "start_time": "2022-07-23T20:30:46.360251Z"
    },
    "execution": {
     "iopub.execute_input": "2022-07-14T04:53:37.762571Z",
     "iopub.status.busy": "2022-07-14T04:53:37.760733Z",
     "iopub.status.idle": "2022-07-14T04:53:37.764056Z",
     "shell.execute_reply": "2022-07-14T04:53:37.763742Z"
    },
    "papermill": {
     "duration": 0.052159,
     "end_time": "2022-07-14T04:53:37.764132",
     "exception": false,
     "start_time": "2022-07-14T04:53:37.711973",
     "status": "completed"
    },
    "tags": []
   },
   "outputs": [],
   "source": [
    "# allsamples = [f'{donor}.Amy', f'{donor}.ASC', f'{donor}.ASC_Bergemann', f'{donor}.CA1',\n",
    "#        f'{donor}.CA3', f'{donor}.CB', f'{donor}.CHD7', f'{donor}.DG', f'{donor}.EC',\n",
    "#        f'{donor}.Foxp2', f'{donor}.HiF1', f'{donor}.HiF2', f'{donor}.L23_IT',\n",
    "#        f'{donor}.L45_IT', f'{donor}.L4_IT', f'{donor}.L56_NP', f'{donor}.L5_ET',\n",
    "#        f'{donor}.L5_IT', f'{donor}.L6b', f'{donor}.L6_CT', f'{donor}.L6_IT',\n",
    "#        f'{donor}.L6_IT_Car3', f'{donor}.Lamp5', f'{donor}.Lamp5_LHX6',\n",
    "#        f'{donor}.MGC', f'{donor}.MSN_D1', f'{donor}.MSN_D2', f'{donor}.ODC',\n",
    "#        f'{donor}.OPC', f'{donor}.PC', f'{donor}.PKJ', f'{donor}.PN',\n",
    "#        f'{donor}.Pvalb', f'{donor}.Pvalb_ChC', f'{donor}.Sncg', f'{donor}.Sst',\n",
    "#        f'{donor}.Sst_Chodl', f'{donor}.SubCtx', f'{donor}.THM_Exc',\n",
    "#        f'{donor}.THM_Inh', f'{donor}.THM_MB_MB', f'{donor}.THM_MB_THM',\n",
    "#        f'{donor}.Vip', f'{donor}.VLMC']\n",
    "allsamples = ['CA3', 'L6_IT', 'CB', 'MSN_D1', 'Amy', 'Sst', 'L6_CT', 'OPC', 'HiF1',\n",
    "       'PC', 'L5_IT', 'L56_NP', 'Pvalb', 'CHD7', 'Lamp5_LHX6', 'Sncg',\n",
    "       'SubCtx', 'THM_MB', 'Vip', 'L6b', 'L5_ET', 'MSN_D2', 'THM_Exc', 'L4_IT',\n",
    "       'Foxp2', 'CA1', 'VLMC', 'THM_Inh', 'DG', 'ODC', 'L23_IT', 'PN', 'ASC',\n",
    "       'Lamp5', 'EC', 'PKJ', 'HiF2', 'MGC', 'L6_IT_Car3', 'Pvalb_ChC']"
   ]
  },
  {
   "cell_type": "code",
   "execution_count": 7,
   "id": "b52f5e92",
   "metadata": {
    "ExecuteTime": {
     "end_time": "2022-07-23T21:41:00.797873Z",
     "start_time": "2022-07-23T20:30:56.867327Z"
    },
    "execution": {
     "iopub.execute_input": "2022-07-14T04:53:37.874354Z",
     "iopub.status.busy": "2022-07-14T04:53:37.868006Z",
     "iopub.status.idle": "2022-07-14T05:33:02.703484Z",
     "shell.execute_reply": "2022-07-14T05:33:02.703978Z"
    },
    "papermill": {
     "duration": 2364.890262,
     "end_time": "2022-07-14T05:33:02.704137",
     "exception": false,
     "start_time": "2022-07-14T04:53:37.813875",
     "status": "completed"
    },
    "scrolled": false,
    "tags": []
   },
   "outputs": [
    {
     "name": "stdout",
     "output_type": "stream",
     "text": [
      "======================================== round 1 ========================================\n",
      "1 ['CA3', 'L6_IT', 'CB', 'MSN_D1', 'Amy', 'Sst', 'L6_CT', 'OPC', 'HiF1', 'PC', 'L5_IT', 'L56_NP', 'Pvalb', 'CHD7', 'Lamp5_LHX6', 'Sncg', 'SubCtx', 'THM_MB', 'Vip', 'L6b', 'L5_ET', 'MSN_D2', 'THM_Exc', 'L4_IT', 'Foxp2', 'CA1', 'VLMC', 'THM_Inh', 'DG', 'ODC', 'L23_IT', 'PN', 'ASC', 'Lamp5', 'EC', 'PKJ', 'HiF2', 'MGC', 'L6_IT_Car3', 'Pvalb_ChC']\n",
      ">>>>>>>>>> to process\n",
      "\t ['L6_IT', 'Amy', 'L5_IT', 'L4_IT', 'L23_IT']\n",
      "\t ['MSN_D1', 'MSN_D2']\n",
      "\t ['Sst', 'Pvalb']\n",
      "\t ['Sncg', 'SubCtx', 'Vip']\n",
      "======================================== round 2 ========================================\n",
      "2 ['L6_IT', 'Amy', 'L5_IT', 'L4_IT', 'L23_IT']\n",
      "2 ['MSN_D1', 'MSN_D2']\n",
      "2 ['Sst', 'Pvalb']\n",
      "2 ['Sncg', 'SubCtx', 'Vip']\n",
      ">>>>>>>>>> all samples good. stop iterating\n"
     ]
    }
   ],
   "source": [
    "samples_pool = [allsamples]\n",
    "log = pd.DataFrame(index=allsamples)\n",
    "log[0] = 0\n",
    "\n",
    "roundid = 1\n",
    "cpg_cands = pd.DataFrame()\n",
    "while True:\n",
    "    print('='*40,'round',roundid,'='*40)\n",
    "    for samples in samples_pool:\n",
    "        print(roundid, samples)\n",
    "        for fn in sorted(methylpy_results):\n",
    "            dfreader = pd.read_csv(fn, sep='\\t', chunksize=5000)\n",
    "            dfpr = DFProcessor(samples, good_cov, good_cov_portion, good_mc_frac, good_mc_frac_portion)\n",
    "            tmp = parallelize_dataframe(dfreader, dfpr.process_df)\n",
    "            tmp = tmp.set_index(['chr','pos'])\n",
    "            tmp['round'] = roundid\n",
    "            cpg_cands = pd.concat([cpg_cands, tmp])\n",
    "#             cpg_cands = cpg_cands[~cpg_cands.index.duplicated()]\n",
    "#             break\n",
    "        \n",
    "    \n",
    "\n",
    "\n",
    "    binned = cpg_cands[[f'frac_{x}' for x in allsamples]]\n",
    "    binned = binned.loc[~binned.index.duplicated()]\n",
    "    binned = (binned>=good_mc_frac)*1+(binned<=1-good_mc_frac)*(-1)\n",
    "    pdists = ssd.pdist(binned.T)\n",
    "    distdf = pd.DataFrame(ssd.squareform(pdists), index=allsamples, columns=allsamples)\n",
    "#     sns.clustermap(distdf,figsize=(15,15), vmax=pdist_thresh, vmin=pdist_thresh-0.01)\n",
    "\n",
    "    \n",
    "    \n",
    "    log[roundid] = sch.cut_tree(sch.linkage(pdists,method='average'), height=pdist_thresh).flatten()\n",
    "    if adjusted_mutual_info_score(log[roundid],log[roundid-1])==1:\n",
    "        print('>'*10, 'nothing changes. stop iterating')\n",
    "        break\n",
    "        \n",
    "        \n",
    "    samples_pool = [x.index.tolist() for _,x in log.groupby(roundid) if len(x)>1]\n",
    "    if len(samples_pool)==0:\n",
    "        print('>'*10, 'all samples good. stop iterating')\n",
    "        break\n",
    "\n",
    "\n",
    "    print('>'*10, 'to process')\n",
    "    for samples in samples_pool:\n",
    "        print('\\t',samples)\n",
    "\n",
    "    roundid+=1\n",
    "\n"
   ]
  },
  {
   "cell_type": "code",
   "execution_count": null,
   "id": "f46c690d",
   "metadata": {
    "papermill": {
     "duration": 0.050022,
     "end_time": "2022-07-14T05:33:02.827278",
     "exception": false,
     "start_time": "2022-07-14T05:33:02.777256",
     "status": "completed"
    },
    "tags": []
   },
   "outputs": [],
   "source": []
  },
  {
   "cell_type": "code",
   "execution_count": 9,
   "id": "192af812",
   "metadata": {
    "ExecuteTime": {
     "end_time": "2022-07-23T21:43:12.167143Z",
     "start_time": "2022-07-23T21:41:00.803806Z"
    },
    "execution": {
     "iopub.execute_input": "2022-07-14T05:33:02.960082Z",
     "iopub.status.busy": "2022-07-14T05:33:02.959699Z",
     "iopub.status.idle": "2022-07-14T05:35:34.530752Z",
     "shell.execute_reply": "2022-07-14T05:35:34.531092Z"
    },
    "papermill": {
     "duration": 151.653545,
     "end_time": "2022-07-14T05:35:34.531212",
     "exception": false,
     "start_time": "2022-07-14T05:33:02.877667",
     "status": "completed"
    },
    "tags": []
   },
   "outputs": [],
   "source": [
    "cpg_cands.to_csv(f'./dataset_hierachy/celltype.MajorType.donor.common.candate-cpg.csv.gz')"
   ]
  },
  {
   "cell_type": "code",
   "execution_count": null,
   "id": "fa6a60d4",
   "metadata": {
    "papermill": {
     "duration": 0.04176,
     "end_time": "2022-07-14T05:35:34.623838",
     "exception": false,
     "start_time": "2022-07-14T05:35:34.582078",
     "status": "completed"
    },
    "tags": []
   },
   "outputs": [],
   "source": []
  },
  {
   "cell_type": "code",
   "execution_count": null,
   "id": "dd35b334",
   "metadata": {
    "papermill": {
     "duration": 0.049987,
     "end_time": "2022-07-14T05:35:34.715365",
     "exception": false,
     "start_time": "2022-07-14T05:35:34.665378",
     "status": "completed"
    },
    "tags": []
   },
   "outputs": [],
   "source": []
  },
  {
   "cell_type": "code",
   "execution_count": null,
   "id": "5665811d",
   "metadata": {
    "papermill": {
     "duration": 0.050356,
     "end_time": "2022-07-14T05:35:34.811027",
     "exception": false,
     "start_time": "2022-07-14T05:35:34.760671",
     "status": "completed"
    },
    "tags": []
   },
   "outputs": [],
   "source": []
  },
  {
   "cell_type": "code",
   "execution_count": null,
   "id": "820f4c94",
   "metadata": {
    "papermill": {
     "duration": 0.049323,
     "end_time": "2022-07-14T05:35:34.915176",
     "exception": false,
     "start_time": "2022-07-14T05:35:34.865853",
     "status": "completed"
    },
    "tags": []
   },
   "outputs": [],
   "source": []
  },
  {
   "cell_type": "code",
   "execution_count": null,
   "id": "4bfc636e",
   "metadata": {
    "papermill": {
     "duration": 0.04911,
     "end_time": "2022-07-14T05:35:35.014720",
     "exception": false,
     "start_time": "2022-07-14T05:35:34.965610",
     "status": "completed"
    },
    "tags": []
   },
   "outputs": [],
   "source": []
  }
 ],
 "metadata": {
  "celltoolbar": "Tags",
  "kernelspec": {
   "display_name": "Python [conda env:sapiens]",
   "language": "python",
   "name": "conda-env-sapiens-py"
  },
  "language_info": {
   "codemirror_mode": {
    "name": "ipython",
    "version": 3
   },
   "file_extension": ".py",
   "mimetype": "text/x-python",
   "name": "python",
   "nbconvert_exporter": "python",
   "pygments_lexer": "ipython3",
   "version": "3.8.12"
  },
  "papermill": {
   "default_parameters": {},
   "duration": 2522.418422,
   "end_time": "2022-07-14T05:35:35.782803",
   "environment_variables": {},
   "exception": null,
   "input_path": "prepare-candidate-cpg-table-hierachy-template.ipynb",
   "output_path": "h1930001.ipynb",
   "parameters": {
    "donor": "h1930001"
   },
   "start_time": "2022-07-14T04:53:33.364381",
   "version": "2.3.3"
  },
  "toc": {
   "base_numbering": 1,
   "nav_menu": {},
   "number_sections": true,
   "sideBar": true,
   "skip_h1_title": false,
   "title_cell": "Table of Contents",
   "title_sidebar": "Contents",
   "toc_cell": false,
   "toc_position": {},
   "toc_section_display": true,
   "toc_window_display": false
  }
 },
 "nbformat": 4,
 "nbformat_minor": 5
}
